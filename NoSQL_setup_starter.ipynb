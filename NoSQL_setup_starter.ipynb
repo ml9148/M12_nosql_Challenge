{
 "cells": [
  {
   "cell_type": "markdown",
   "id": "9a57c4c6",
   "metadata": {},
   "source": [
    "# Eat Safe, Love"
   ]
  },
  {
   "cell_type": "markdown",
   "id": "064ef857",
   "metadata": {},
   "source": [
    "## Part 1: Database and Jupyter Notebook Set Up"
   ]
  },
  {
   "cell_type": "markdown",
   "id": "664e3c1f",
   "metadata": {},
   "source": [
    "Import the data provided in the `establishments.json` file from your Terminal. Name the database `uk_food` and the collection `establishments`.\n",
    "\n",
    "Within this markdown cell, copy the line of text you used to import the data from your Terminal. This way, future analysts will be able to repeat your process.\n",
    "\n",
    "e.g.: Import the dataset with 'mongoimport --type json -d uk_food -c establishments --drop --jsonArray establishments.json'"
   ]
  },
  {
   "cell_type": "code",
   "execution_count": 1,
   "id": "3ecdd008",
   "metadata": {},
   "outputs": [],
   "source": [
    "# Import dependencies\n",
    "from pymongo import MongoClient\n",
    "from pprint import pprint"
   ]
  },
  {
   "cell_type": "code",
   "execution_count": 2,
   "id": "59390c4a",
   "metadata": {},
   "outputs": [],
   "source": [
    "# Create an instance of MongoClient\n",
    "mongo = MongoClient(port=27017)"
   ]
  },
  {
   "cell_type": "code",
   "execution_count": 3,
   "id": "7f9ececa",
   "metadata": {},
   "outputs": [
    {
     "name": "stdout",
     "output_type": "stream",
     "text": [
      "['admin', 'autosaurus', 'classDB', 'class_db', 'config', 'epa', 'local', 'met', 'travel_db', 'uk_food']\n"
     ]
    }
   ],
   "source": [
    "# confirm that our new database was created\n",
    "print(mongo.list_database_names())"
   ]
  },
  {
   "cell_type": "code",
   "execution_count": 4,
   "id": "71e373c1",
   "metadata": {},
   "outputs": [],
   "source": [
    "# assign the uk_food database to a variable name\n",
    "food_ratings_db = mongo['uk_food']"
   ]
  },
  {
   "cell_type": "code",
   "execution_count": 8,
   "id": "ef1b89ed",
   "metadata": {},
   "outputs": [
    {
     "name": "stdout",
     "output_type": "stream",
     "text": [
      "['establishments']\n"
     ]
    }
   ],
   "source": [
    "# review the collections in our new database\n",
    "print(food_ratings_db.list_collection_names())"
   ]
  },
  {
   "cell_type": "code",
   "execution_count": 9,
   "id": "6a0d92df",
   "metadata": {},
   "outputs": [
    {
     "name": "stdout",
     "output_type": "stream",
     "text": [
      "{'AddressLine1': 'East Cliff Pavilion',\n",
      " 'AddressLine2': 'Wear Bay Road',\n",
      " 'AddressLine3': 'Folkestone',\n",
      " 'AddressLine4': 'Kent',\n",
      " 'BusinessName': 'The Pavilion',\n",
      " 'BusinessType': 'Restaurant/Cafe/Canteen',\n",
      " 'BusinessTypeID': 1,\n",
      " 'ChangesByServerID': 0,\n",
      " 'Distance': 4591.765489457773,\n",
      " 'FHRSID': 1043695,\n",
      " 'LocalAuthorityBusinessID': 'PI/000073616',\n",
      " 'LocalAuthorityCode': '188',\n",
      " 'LocalAuthorityEmailAddress': 'foodteam@folkestone-hythe.gov.uk',\n",
      " 'LocalAuthorityName': 'Folkestone and Hythe',\n",
      " 'LocalAuthorityWebSite': 'http://www.folkestone-hythe.gov.uk',\n",
      " 'NewRatingPending': False,\n",
      " 'Phone': '',\n",
      " 'PostCode': 'CT19 6BL',\n",
      " 'RatingDate': '2018-04-04T00:00:00',\n",
      " 'RatingKey': 'fhrs_5_en-gb',\n",
      " 'RatingValue': '5',\n",
      " 'RightToReply': '',\n",
      " 'SchemeType': 'FHRS',\n",
      " '_id': ObjectId('65dd454504553fd4d6556761'),\n",
      " 'geocode': {'latitude': '51.083812', 'longitude': '1.195625'},\n",
      " 'links': [{'href': 'https://api.ratings.food.gov.uk/establishments/1043695',\n",
      "            'rel': 'self'}],\n",
      " 'meta': {'dataSource': None,\n",
      "          'extractDate': '0001-01-01T00:00:00',\n",
      "          'itemCount': 0,\n",
      "          'pageNumber': 0,\n",
      "          'pageSize': 0,\n",
      "          'returncode': None,\n",
      "          'totalCount': 0,\n",
      "          'totalPages': 0},\n",
      " 'scores': {'ConfidenceInManagement': 5, 'Hygiene': 5, 'Structural': 5}}\n"
     ]
    }
   ],
   "source": [
    "# review a document in the establishments collection\n",
    "pprint(food_ratings_db.establishments.find_one())"
   ]
  },
  {
   "cell_type": "code",
   "execution_count": 10,
   "id": "11c9f11b",
   "metadata": {},
   "outputs": [],
   "source": [
    "# assign the collection to a variable\n",
    "establishments = food_ratings_db['establishments']"
   ]
  },
  {
   "cell_type": "markdown",
   "id": "d5671434",
   "metadata": {},
   "source": [
    "## Part 2: Update the Database"
   ]
  },
  {
   "cell_type": "markdown",
   "id": "314bd884",
   "metadata": {},
   "source": [
    "1. An exciting new halal restaurant just opened in Greenwich, but hasn't been rated yet. The magazine has asked you to include it in your analysis. Add the following restaurant \"Penang Flavours\" to the database."
   ]
  },
  {
   "cell_type": "code",
   "execution_count": 11,
   "id": "c2da7648",
   "metadata": {},
   "outputs": [],
   "source": [
    "# Create a dictionary for the new restaurant data\n",
    "penang_flavours_data = {\n",
    "    \"BusinessName\":\"Penang Flavours\",\n",
    "    \"BusinessType\":\"Restaurant/Cafe/Canteen\",\n",
    "    \"BusinessTypeID\":\"\",\n",
    "    \"AddressLine1\":\"Penang Flavours\",\n",
    "    \"AddressLine2\":\"146A Plumstead Rd\",\n",
    "    \"AddressLine3\":\"London\",\n",
    "    \"AddressLine4\":\"\",\n",
    "    \"PostCode\":\"SE18 7DY\",\n",
    "    \"Phone\":\"\",\n",
    "    \"LocalAuthorityCode\":\"511\",\n",
    "    \"LocalAuthorityName\":\"Greenwich\",\n",
    "    \"LocalAuthorityWebSite\":\"http://www.royalgreenwich.gov.uk\",\n",
    "    \"LocalAuthorityEmailAddress\":\"health@royalgreenwich.gov.uk\",\n",
    "    \"scores\":{\n",
    "        \"Hygiene\":\"\",\n",
    "        \"Structural\":\"\",\n",
    "        \"ConfidenceInManagement\":\"\"\n",
    "    },\n",
    "    \"SchemeType\":\"FHRS\",\n",
    "    \"geocode\":{\n",
    "        \"longitude\":\"0.08384000\",\n",
    "        \"latitude\":\"51.49014200\"\n",
    "    },\n",
    "    \"RightToReply\":\"\",\n",
    "    \"Distance\":4623.9723280747176,\n",
    "    \"NewRatingPending\":True\n",
    "}"
   ]
  },
  {
   "cell_type": "code",
   "execution_count": 12,
   "id": "a6e5cece",
   "metadata": {},
   "outputs": [
    {
     "data": {
      "text/plain": [
       "<pymongo.results.InsertOneResult at 0x103b4aa00>"
      ]
     },
     "execution_count": 12,
     "metadata": {},
     "output_type": "execute_result"
    }
   ],
   "source": [
    "# Insert the new restaurant into the collection\n",
    "establishments.insert_one(penang_flavours_data)"
   ]
  },
  {
   "cell_type": "code",
   "execution_count": 13,
   "id": "63bb10f9",
   "metadata": {},
   "outputs": [
    {
     "data": {
      "text/plain": [
       "{'_id': ObjectId('65dd4c25423346d794dd1847'),\n",
       " 'BusinessName': 'Penang Flavours',\n",
       " 'BusinessType': 'Restaurant/Cafe/Canteen',\n",
       " 'BusinessTypeID': '',\n",
       " 'AddressLine1': 'Penang Flavours',\n",
       " 'AddressLine2': '146A Plumstead Rd',\n",
       " 'AddressLine3': 'London',\n",
       " 'AddressLine4': '',\n",
       " 'PostCode': 'SE18 7DY',\n",
       " 'Phone': '',\n",
       " 'LocalAuthorityCode': '511',\n",
       " 'LocalAuthorityName': 'Greenwich',\n",
       " 'LocalAuthorityWebSite': 'http://www.royalgreenwich.gov.uk',\n",
       " 'LocalAuthorityEmailAddress': 'health@royalgreenwich.gov.uk',\n",
       " 'scores': {'Hygiene': '', 'Structural': '', 'ConfidenceInManagement': ''},\n",
       " 'SchemeType': 'FHRS',\n",
       " 'geocode': {'longitude': '0.08384000', 'latitude': '51.49014200'},\n",
       " 'RightToReply': '',\n",
       " 'Distance': 4623.972328074718,\n",
       " 'NewRatingPending': True}"
      ]
     },
     "execution_count": 13,
     "metadata": {},
     "output_type": "execute_result"
    }
   ],
   "source": [
    "# Check that the new restaurant was inserted\n",
    "establishments.find_one({'BusinessName':'Penang Flavours'})"
   ]
  },
  {
   "cell_type": "markdown",
   "id": "0ef4395a",
   "metadata": {},
   "source": [
    "2. Find the BusinessTypeID for \"Restaurant/Cafe/Canteen\" and return only the `BusinessTypeID` and `BusinessType` fields."
   ]
  },
  {
   "cell_type": "code",
   "execution_count": 14,
   "id": "93c63829",
   "metadata": {},
   "outputs": [
    {
     "data": {
      "text/plain": [
       "{'_id': ObjectId('65dd454504553fd4d6556761'),\n",
       " 'BusinessType': 'Restaurant/Cafe/Canteen',\n",
       " 'BusinessTypeID': 1}"
      ]
     },
     "execution_count": 14,
     "metadata": {},
     "output_type": "execute_result"
    }
   ],
   "source": [
    "# Find the BusinessTypeID for \"Restaurant/Cafe/Canteen\" and return only the BusinessTypeID and BusinessType fields\n",
    "query = {'BusinessType': 'Restaurant/Cafe/Canteen'}\n",
    "fields = ['BusinessTypeID', 'BusinessType']\n",
    "establishments.find_one(query,fields)"
   ]
  },
  {
   "cell_type": "markdown",
   "id": "4e570caf",
   "metadata": {},
   "source": [
    "3. Update the new restaurant with the `BusinessTypeID` you found."
   ]
  },
  {
   "cell_type": "code",
   "execution_count": 15,
   "id": "7f599f3d",
   "metadata": {},
   "outputs": [
    {
     "data": {
      "text/plain": [
       "<pymongo.results.UpdateResult at 0x105565b40>"
      ]
     },
     "execution_count": 15,
     "metadata": {},
     "output_type": "execute_result"
    }
   ],
   "source": [
    "# Update the new restaurant with the correct BusinessTypeID\n",
    "establishments.update_one(penang_flavours_data, {'$set': {'BusinessTypeID': 1}})"
   ]
  },
  {
   "cell_type": "code",
   "execution_count": 16,
   "id": "a6ad16f7",
   "metadata": {},
   "outputs": [
    {
     "data": {
      "text/plain": [
       "{'_id': ObjectId('65dd4c25423346d794dd1847'),\n",
       " 'BusinessName': 'Penang Flavours',\n",
       " 'BusinessType': 'Restaurant/Cafe/Canteen',\n",
       " 'BusinessTypeID': '',\n",
       " 'AddressLine1': 'Penang Flavours',\n",
       " 'AddressLine2': '146A Plumstead Rd',\n",
       " 'AddressLine3': 'London',\n",
       " 'AddressLine4': '',\n",
       " 'PostCode': 'SE18 7DY',\n",
       " 'Phone': '',\n",
       " 'LocalAuthorityCode': '511',\n",
       " 'LocalAuthorityName': 'Greenwich',\n",
       " 'LocalAuthorityWebSite': 'http://www.royalgreenwich.gov.uk',\n",
       " 'LocalAuthorityEmailAddress': 'health@royalgreenwich.gov.uk',\n",
       " 'scores': {'Hygiene': '', 'Structural': '', 'ConfidenceInManagement': ''},\n",
       " 'SchemeType': 'FHRS',\n",
       " 'geocode': {'longitude': '0.08384000', 'latitude': '51.49014200'},\n",
       " 'RightToReply': '',\n",
       " 'Distance': 4623.972328074718,\n",
       " 'NewRatingPending': True}"
      ]
     },
     "execution_count": 16,
     "metadata": {},
     "output_type": "execute_result"
    }
   ],
   "source": [
    "# Confirm that the new restaurant was updated\n",
    "establishments.find_one({'BusinessName': 'Penang Flavours'})"
   ]
  },
  {
   "cell_type": "markdown",
   "id": "67281254",
   "metadata": {},
   "source": [
    "4. The magazine is not interested in any establishments in Dover, so check how many documents contain the Dover Local Authority. Then, remove any establishments within the Dover Local Authority from the database, and check the number of documents to ensure they were deleted."
   ]
  },
  {
   "cell_type": "code",
   "execution_count": 17,
   "id": "768474a6",
   "metadata": {},
   "outputs": [
    {
     "data": {
      "text/plain": [
       "0"
      ]
     },
     "execution_count": 17,
     "metadata": {},
     "output_type": "execute_result"
    }
   ],
   "source": [
    "# Find how many documents have LocalAuthorityName as \"Dover\"\n",
    "query = {'LocalAuthorityName': 'Dover'}\n",
    "establishments.count_documents({'LocalAuthorityName': 'Dover'})\n",
    "                                "
   ]
  },
  {
   "cell_type": "code",
   "execution_count": 18,
   "id": "a11d5f1b",
   "metadata": {},
   "outputs": [
    {
     "data": {
      "text/plain": [
       "<pymongo.results.DeleteResult at 0x1054fdbc0>"
      ]
     },
     "execution_count": 18,
     "metadata": {},
     "output_type": "execute_result"
    }
   ],
   "source": [
    "# Delete all documents where LocalAuthorityName is \"Dover\"\n",
    "establishments.delete_many({'LocalAuthorityName': 'Dover'})"
   ]
  },
  {
   "cell_type": "code",
   "execution_count": 19,
   "id": "2a51aba0",
   "metadata": {},
   "outputs": [
    {
     "data": {
      "text/plain": [
       "0"
      ]
     },
     "execution_count": 19,
     "metadata": {},
     "output_type": "execute_result"
    }
   ],
   "source": [
    "# Check if any remaining documents include Dover\n",
    "# pprint(establishments.count_documents({'LocalAuthorityName': 'Dover'}))\n",
    "query = {'LocalAuthorityName': 'Dover'}\n",
    "establishments.count_documents({'LocalAuthorityName': 'Dover'})"
   ]
  },
  {
   "cell_type": "code",
   "execution_count": 30,
   "id": "8c356f7b",
   "metadata": {},
   "outputs": [
    {
     "data": {
      "text/plain": [
       "{'_id': ObjectId('65dd454504553fd4d6556761'),\n",
       " 'FHRSID': 1043695,\n",
       " 'ChangesByServerID': 0,\n",
       " 'LocalAuthorityBusinessID': 'PI/000073616',\n",
       " 'BusinessName': 'The Pavilion',\n",
       " 'BusinessType': 'Restaurant/Cafe/Canteen',\n",
       " 'BusinessTypeID': 1,\n",
       " 'AddressLine1': 'East Cliff Pavilion',\n",
       " 'AddressLine2': 'Wear Bay Road',\n",
       " 'AddressLine3': 'Folkestone',\n",
       " 'AddressLine4': 'Kent',\n",
       " 'PostCode': 'CT19 6BL',\n",
       " 'Phone': '',\n",
       " 'RatingValue': 5,\n",
       " 'RatingKey': 'fhrs_5_en-gb',\n",
       " 'RatingDate': '2018-04-04T00:00:00',\n",
       " 'LocalAuthorityCode': '188',\n",
       " 'LocalAuthorityName': 'Folkestone and Hythe',\n",
       " 'LocalAuthorityWebSite': 'http://www.folkestone-hythe.gov.uk',\n",
       " 'LocalAuthorityEmailAddress': 'foodteam@folkestone-hythe.gov.uk',\n",
       " 'scores': {'Hygiene': 5, 'Structural': 5, 'ConfidenceInManagement': 5},\n",
       " 'SchemeType': 'FHRS',\n",
       " 'geocode': {'longitude': 1.195625, 'latitude': 51.083812},\n",
       " 'RightToReply': '',\n",
       " 'Distance': 4591.765489457773,\n",
       " 'NewRatingPending': False,\n",
       " 'meta': {'dataSource': None,\n",
       "  'extractDate': '0001-01-01T00:00:00',\n",
       "  'itemCount': 0,\n",
       "  'returncode': None,\n",
       "  'totalCount': 0,\n",
       "  'totalPages': 0,\n",
       "  'pageSize': 0,\n",
       "  'pageNumber': 0},\n",
       " 'links': [{'rel': 'self',\n",
       "   'href': 'https://api.ratings.food.gov.uk/establishments/1043695'}]}"
      ]
     },
     "execution_count": 30,
     "metadata": {},
     "output_type": "execute_result"
    }
   ],
   "source": [
    "# Check that other documents remain with 'find_one'\n",
    "establishments.find_one({})"
   ]
  },
  {
   "attachments": {},
   "cell_type": "markdown",
   "id": "e9f1662d",
   "metadata": {},
   "source": [
    "5. Some of the number values are stored as strings, when they should be stored as numbers."
   ]
  },
  {
   "attachments": {},
   "cell_type": "markdown",
   "id": "c46df2df",
   "metadata": {},
   "source": [
    "Use `update_many` to convert `latitude` and `longitude` to decimal numbers."
   ]
  },
  {
   "cell_type": "code",
   "execution_count": 31,
   "id": "fd4112ce",
   "metadata": {},
   "outputs": [
    {
     "data": {
      "text/plain": [
       "<pymongo.results.UpdateResult at 0x1063c8b80>"
      ]
     },
     "execution_count": 31,
     "metadata": {},
     "output_type": "execute_result"
    }
   ],
   "source": [
    "# Change the data type from String to Decimal for longitude and latitude\n",
    "establishments.update_many({},[{'$set':{'geocode.longitude':{'$toDouble':'$geocode.longitude'},\n",
    "                                         'geocode.latitude':{'$toDouble':'$geocode.latitude'}}}])"
   ]
  },
  {
   "attachments": {},
   "cell_type": "markdown",
   "id": "142e319c",
   "metadata": {},
   "source": [
    "Use `update_many` to convert `RatingValue` to integer numbers."
   ]
  },
  {
   "cell_type": "code",
   "execution_count": 32,
   "id": "04430a5b",
   "metadata": {},
   "outputs": [
    {
     "data": {
      "text/plain": [
       "<pymongo.results.UpdateResult at 0x1063e7d80>"
      ]
     },
     "execution_count": 32,
     "metadata": {},
     "output_type": "execute_result"
    }
   ],
   "source": [
    "# Set non 1-5 Rating Values to Null\n",
    "non_ratings = [\"AwaitingInspection\", \"Awaiting Inspection\", \"AwaitingPublication\", \"Pass\", \"Exempt\"]\n",
    "establishments.update_many({\"RatingValue\": {\"$in\": non_ratings}}, [ {'$set':{ \"RatingValue\" : None}} ])"
   ]
  },
  {
   "cell_type": "code",
   "execution_count": 36,
   "id": "92524ccc",
   "metadata": {},
   "outputs": [
    {
     "data": {
      "text/plain": [
       "<pymongo.results.UpdateResult at 0x1063a0cc0>"
      ]
     },
     "execution_count": 36,
     "metadata": {},
     "output_type": "execute_result"
    }
   ],
   "source": [
    "# Change the data type from String to Integer for RatingValue\n",
    "establishments.update_many({},[{'$set':{'RatingValue':{'$toInt':\"$RatingValue\"}}}])"
   ]
  },
  {
   "cell_type": "code",
   "execution_count": 48,
   "id": "0deacaf9",
   "metadata": {},
   "outputs": [
    {
     "name": "stdout",
     "output_type": "stream",
     "text": [
      "{'RatingValue': 5,\n",
      " '_id': ObjectId('65dd454504553fd4d6556761'),\n",
      " 'geocode': {'latitude': 51.083812, 'longitude': 1.195625}}\n",
      "{'RatingValue': 5,\n",
      " '_id': ObjectId('65dd454504553fd4d6556762'),\n",
      " 'geocode': {'latitude': 51.085797, 'longitude': 1.194762}}\n",
      "{'RatingValue': 4,\n",
      " '_id': ObjectId('65dd454504553fd4d6556763'),\n",
      " 'geocode': {'latitude': 51.086058, 'longitude': 1.196408}}\n",
      "{'RatingValue': 4,\n",
      " '_id': ObjectId('65dd454504553fd4d6556765'),\n",
      " 'geocode': {'latitude': 51.08084, 'longitude': 1.188537}}\n",
      "{'RatingValue': 5,\n",
      " '_id': ObjectId('65dd454504553fd4d6556766'),\n",
      " 'geocode': {'latitude': 51.08084, 'longitude': 1.188537}}\n",
      "{'RatingValue': 5,\n",
      " '_id': ObjectId('65dd454504553fd4d6556767'),\n",
      " 'geocode': {'latitude': 51.0783519967076, 'longitude': 1.18590330311705}}\n",
      "{'RatingValue': 5,\n",
      " '_id': ObjectId('65dd454504553fd4d6556768'),\n",
      " 'geocode': {'latitude': 51.0783519967076, 'longitude': 1.18590330311705}}\n",
      "{'RatingValue': 5,\n",
      " '_id': ObjectId('65dd454504553fd4d6556769'),\n",
      " 'geocode': {'latitude': 51.0783519967076, 'longitude': 1.18590330311705}}\n",
      "{'RatingValue': 5,\n",
      " '_id': ObjectId('65dd454504553fd4d655676b'),\n",
      " 'geocode': {'latitude': 51.0783519967076, 'longitude': 1.18590330311705}}\n",
      "{'RatingValue': 5,\n",
      " '_id': ObjectId('65dd454504553fd4d655676c'),\n",
      " 'geocode': {'latitude': 51.0783519967076, 'longitude': 1.18590330311705}}\n",
      "{'RatingValue': 5,\n",
      " '_id': ObjectId('65dd454504553fd4d655676d'),\n",
      " 'geocode': {'latitude': 51.0783519967076, 'longitude': 1.18590330311705}}\n",
      "{'RatingValue': 5,\n",
      " '_id': ObjectId('65dd454504553fd4d655676e'),\n",
      " 'geocode': {'latitude': 51.0783519967076, 'longitude': 1.18590330311705}}\n",
      "{'RatingValue': 5,\n",
      " '_id': ObjectId('65dd454504553fd4d655676f'),\n",
      " 'geocode': {'latitude': 51.0783519967076, 'longitude': 1.18590330311705}}\n",
      "{'RatingValue': 5,\n",
      " '_id': ObjectId('65dd454504553fd4d6556770'),\n",
      " 'geocode': {'latitude': 51.0783519967076, 'longitude': 1.18590330311705}}\n",
      "{'RatingValue': 4,\n",
      " '_id': ObjectId('65dd454504553fd4d6556771'),\n",
      " 'geocode': {'latitude': 51.0783519967076, 'longitude': 1.18590330311705}}\n",
      "{'RatingValue': 3,\n",
      " '_id': ObjectId('65dd454504553fd4d6556772'),\n",
      " 'geocode': {'latitude': 51.0783519967076, 'longitude': 1.18590330311705}}\n",
      "{'RatingValue': 5,\n",
      " '_id': ObjectId('65dd454504553fd4d6556773'),\n",
      " 'geocode': {'latitude': 51.08084, 'longitude': 1.188537}}\n",
      "{'RatingValue': 3,\n",
      " '_id': ObjectId('65dd454504553fd4d6556774'),\n",
      " 'geocode': {'latitude': 51.0783519967076, 'longitude': 1.18590330311705}}\n",
      "{'RatingValue': 5,\n",
      " '_id': ObjectId('65dd454504553fd4d6556775'),\n",
      " 'geocode': {'latitude': 51.0783519967076, 'longitude': 1.18590330311705}}\n",
      "{'RatingValue': 5,\n",
      " '_id': ObjectId('65dd454504553fd4d6556776'),\n",
      " 'geocode': {'latitude': 51.0783519967076, 'longitude': 1.18590330311705}}\n",
      "{'RatingValue': 4,\n",
      " '_id': ObjectId('65dd454504553fd4d6556777'),\n",
      " 'geocode': {'latitude': 51.0783519967076, 'longitude': 1.18590330311705}}\n",
      "{'RatingValue': 5,\n",
      " '_id': ObjectId('65dd454504553fd4d6556778'),\n",
      " 'geocode': {'latitude': 51.08084, 'longitude': 1.188537}}\n",
      "{'RatingValue': 5,\n",
      " '_id': ObjectId('65dd454504553fd4d6556779'),\n",
      " 'geocode': {'latitude': 51.0783519967076, 'longitude': 1.18590330311705}}\n",
      "{'RatingValue': 5,\n",
      " '_id': ObjectId('65dd454504553fd4d655677a'),\n",
      " 'geocode': {'latitude': 51.0783519967076, 'longitude': 1.18590330311705}}\n",
      "{'RatingValue': 5,\n",
      " '_id': ObjectId('65dd454504553fd4d655677b'),\n",
      " 'geocode': {'latitude': 51.0783519967076, 'longitude': 1.18590330311705}}\n",
      "{'RatingValue': 5,\n",
      " '_id': ObjectId('65dd454504553fd4d655677c'),\n",
      " 'geocode': {'latitude': 51.0783519967076, 'longitude': 1.18590330311705}}\n",
      "{'RatingValue': 5,\n",
      " '_id': ObjectId('65dd454504553fd4d655677d'),\n",
      " 'geocode': {'latitude': 51.0783519967076, 'longitude': 1.18590330311705}}\n",
      "{'RatingValue': 5,\n",
      " '_id': ObjectId('65dd454504553fd4d655677e'),\n",
      " 'geocode': {'latitude': 51.0783519967076, 'longitude': 1.18590330311705}}\n",
      "{'RatingValue': 2,\n",
      " '_id': ObjectId('65dd454504553fd4d655677f'),\n",
      " 'geocode': {'latitude': 51.0783519967076, 'longitude': 1.18590330311705}}\n",
      "{'RatingValue': 4,\n",
      " '_id': ObjectId('65dd454504553fd4d6556780'),\n",
      " 'geocode': {'latitude': 51.0783519967076, 'longitude': 1.18590330311705}}\n",
      "{'RatingValue': 5,\n",
      " '_id': ObjectId('65dd454504553fd4d6556781'),\n",
      " 'geocode': {'latitude': 51.0783519967076, 'longitude': 1.18590330311705}}\n",
      "{'RatingValue': 4,\n",
      " '_id': ObjectId('65dd454504553fd4d6556782'),\n",
      " 'geocode': {'latitude': 51.0783519967076, 'longitude': 1.18590330311705}}\n",
      "{'RatingValue': 4,\n",
      " '_id': ObjectId('65dd454504553fd4d6556783'),\n",
      " 'geocode': {'latitude': 51.0783519967076, 'longitude': 1.18590330311705}}\n",
      "{'RatingValue': 5,\n",
      " '_id': ObjectId('65dd454504553fd4d6556784'),\n",
      " 'geocode': {'latitude': 51.0783519967076, 'longitude': 1.18590330311705}}\n",
      "{'RatingValue': 5,\n",
      " '_id': ObjectId('65dd454504553fd4d6556785'),\n",
      " 'geocode': {'latitude': 51.0783519967076, 'longitude': 1.18590330311705}}\n",
      "{'RatingValue': 3,\n",
      " '_id': ObjectId('65dd454504553fd4d6556786'),\n",
      " 'geocode': {'latitude': 51.0783519967076, 'longitude': 1.18590330311705}}\n",
      "{'RatingValue': 5,\n",
      " '_id': ObjectId('65dd454504553fd4d6556787'),\n",
      " 'geocode': {'latitude': 51.0783519967076, 'longitude': 1.18590330311705}}\n",
      "{'RatingValue': 5,\n",
      " '_id': ObjectId('65dd454504553fd4d6556788'),\n",
      " 'geocode': {'latitude': 51.0783519967076, 'longitude': 1.18590330311705}}\n",
      "{'RatingValue': 5,\n",
      " '_id': ObjectId('65dd454504553fd4d6556789'),\n",
      " 'geocode': {'latitude': 51.0783519967076, 'longitude': 1.18590330311705}}\n",
      "{'RatingValue': 5,\n",
      " '_id': ObjectId('65dd454504553fd4d655678a'),\n",
      " 'geocode': {'latitude': 51.0783519967076, 'longitude': 1.18590330311705}}\n",
      "{'RatingValue': None,\n",
      " '_id': ObjectId('65dd454504553fd4d655678b'),\n",
      " 'geocode': {'latitude': 51.0805695006979, 'longitude': 1.18794649942731}}\n",
      "{'RatingValue': 2,\n",
      " '_id': ObjectId('65dd454504553fd4d655678c'),\n",
      " 'geocode': {'latitude': 51.078449, 'longitude': 1.18516}}\n",
      "{'RatingValue': 5,\n",
      " '_id': ObjectId('65dd454504553fd4d655678d'),\n",
      " 'geocode': {'latitude': 51.095015, 'longitude': 1.202055}}\n",
      "{'RatingValue': 5,\n",
      " '_id': ObjectId('65dd454504553fd4d655678e'),\n",
      " 'geocode': {'latitude': 51.080446, 'longitude': 1.186825}}\n",
      "{'RatingValue': 5,\n",
      " '_id': ObjectId('65dd454504553fd4d655678f'),\n",
      " 'geocode': {'latitude': 51.0783519967076, 'longitude': 1.18590330311705}}\n",
      "{'RatingValue': 5,\n",
      " '_id': ObjectId('65dd454504553fd4d6556790'),\n",
      " 'geocode': {'latitude': 51.080673, 'longitude': 1.187083}}\n",
      "{'RatingValue': 5,\n",
      " '_id': ObjectId('65dd454504553fd4d6556792'),\n",
      " 'geocode': {'latitude': 51.079985650005, 'longitude': 1.18628335007084}}\n",
      "{'RatingValue': 5,\n",
      " '_id': ObjectId('65dd454504553fd4d6556793'),\n",
      " 'geocode': {'latitude': 51.080284, 'longitude': 1.186485}}\n",
      "{'RatingValue': 5,\n",
      " '_id': ObjectId('65dd454504553fd4d6556795'),\n",
      " 'geocode': {'latitude': 51.080284, 'longitude': 1.186485}}\n",
      "{'RatingValue': None,\n",
      " '_id': ObjectId('65dd454504553fd4d6556796'),\n",
      " 'geocode': {'latitude': 51.0783519967076, 'longitude': 1.18590330311705}}\n",
      "{'RatingValue': 5,\n",
      " '_id': ObjectId('65dd454504553fd4d6556797'),\n",
      " 'geocode': {'latitude': 51.080224, 'longitude': 1.186067}}\n",
      "{'RatingValue': 5,\n",
      " '_id': ObjectId('65dd454504553fd4d6556798'),\n",
      " 'geocode': {'latitude': 51.087887, 'longitude': 1.194306}}\n",
      "{'RatingValue': 5,\n",
      " '_id': ObjectId('65dd454504553fd4d655679a'),\n",
      " 'geocode': {'latitude': 51.079613, 'longitude': 1.185368}}\n",
      "{'RatingValue': 3,\n",
      " '_id': ObjectId('65dd454504553fd4d655679b'),\n",
      " 'geocode': {'latitude': 51.077971, 'longitude': 1.183585}}\n",
      "{'RatingValue': 2,\n",
      " '_id': ObjectId('65dd454504553fd4d655679c'),\n",
      " 'geocode': {'latitude': 51.0783519967076, 'longitude': 1.18590330311705}}\n",
      "{'RatingValue': 5,\n",
      " '_id': ObjectId('65dd454504553fd4d655679d'),\n",
      " 'geocode': {'latitude': 51.079613, 'longitude': 1.185368}}\n",
      "{'RatingValue': 5,\n",
      " '_id': ObjectId('65dd454504553fd4d655679f'),\n",
      " 'geocode': {'latitude': 51.083232, 'longitude': 1.188902}}\n",
      "{'RatingValue': 5,\n",
      " '_id': ObjectId('65dd454504553fd4d65567a0'),\n",
      " 'geocode': {'latitude': 51.080838, 'longitude': 1.186309}}\n",
      "{'RatingValue': 5,\n",
      " '_id': ObjectId('65dd454504553fd4d65567a1'),\n",
      " 'geocode': {'latitude': 51.081546, 'longitude': 1.186715}}\n",
      "{'RatingValue': 5,\n",
      " '_id': ObjectId('65dd454504553fd4d65567a2'),\n",
      " 'geocode': {'latitude': 51.081735, 'longitude': 1.187056}}\n",
      "{'RatingValue': 5,\n",
      " '_id': ObjectId('65dd454504553fd4d65567a3'),\n",
      " 'geocode': {'latitude': 51.0803, 'longitude': 1.184916}}\n",
      "{'RatingValue': 5,\n",
      " '_id': ObjectId('65dd454504553fd4d65567a4'),\n",
      " 'geocode': {'latitude': 51.086262, 'longitude': 1.190896}}\n",
      "{'RatingValue': 2,\n",
      " '_id': ObjectId('65dd454504553fd4d65567a5'),\n",
      " 'geocode': {'latitude': 51.07915, 'longitude': 1.184194}}\n",
      "{'RatingValue': 5,\n",
      " '_id': ObjectId('65dd454504553fd4d65567a8'),\n",
      " 'geocode': {'latitude': 51.0818061828613, 'longitude': 1.18601894378662}}\n",
      "{'RatingValue': 5,\n",
      " '_id': ObjectId('65dd454504553fd4d65567a9'),\n",
      " 'geocode': {'latitude': 51.0877821, 'longitude': 1.1920251}}\n",
      "{'RatingValue': 5,\n",
      " '_id': ObjectId('65dd454504553fd4d65567ab'),\n",
      " 'geocode': {'latitude': 51.0804748535156, 'longitude': 1.18425798416138}}\n",
      "{'RatingValue': 5,\n",
      " '_id': ObjectId('65dd454504553fd4d65567ac'),\n",
      " 'geocode': {'latitude': 51.0804824829102, 'longitude': 1.18421399593353}}\n",
      "{'RatingValue': 5,\n",
      " '_id': ObjectId('65dd454504553fd4d65567ad'),\n",
      " 'geocode': {'latitude': 51.0804824829102, 'longitude': 1.18421399593353}}\n",
      "{'RatingValue': 5,\n",
      " '_id': ObjectId('65dd454504553fd4d65567ae'),\n",
      " 'geocode': {'latitude': 51.0793, 'longitude': 1.182962}}\n",
      "{'RatingValue': 4,\n",
      " '_id': ObjectId('65dd454504553fd4d65567af'),\n",
      " 'geocode': {'latitude': 51.0809478759766, 'longitude': 1.18431901931763}}\n",
      "{'RatingValue': 3,\n",
      " '_id': ObjectId('65dd454504553fd4d65567b0'),\n",
      " 'geocode': {'latitude': 51.07915, 'longitude': 1.184194}}\n",
      "{'RatingValue': 5,\n",
      " '_id': ObjectId('65dd454504553fd4d65567b2'),\n",
      " 'geocode': {'latitude': 51.080956, 'longitude': 1.18429}}\n",
      "{'RatingValue': 5,\n",
      " '_id': ObjectId('65dd454504553fd4d65567b3'),\n",
      " 'geocode': {'latitude': 51.080956, 'longitude': 1.18429}}\n",
      "{'RatingValue': 4,\n",
      " '_id': ObjectId('65dd454504553fd4d65567b4'),\n",
      " 'geocode': {'latitude': 51.080956, 'longitude': 1.18429}}\n",
      "{'RatingValue': None,\n",
      " '_id': ObjectId('65dd454504553fd4d65567b5'),\n",
      " 'geocode': {'latitude': 51.0917365039471, 'longitude': 1.19522100055125}}\n",
      "{'RatingValue': 4,\n",
      " '_id': ObjectId('65dd454504553fd4d65567b6'),\n",
      " 'geocode': {'latitude': 51.097794, 'longitude': 1.201433}}\n",
      "{'RatingValue': 5,\n",
      " '_id': ObjectId('65dd454504553fd4d65567b7'),\n",
      " 'geocode': {'latitude': 51.080804, 'longitude': 1.183893}}\n",
      "{'RatingValue': 4,\n",
      " '_id': ObjectId('65dd454504553fd4d65567b8'),\n",
      " 'geocode': {'latitude': 51.079301, 'longitude': 1.182962}}\n",
      "{'RatingValue': 3,\n",
      " '_id': ObjectId('65dd454504553fd4d65567b9'),\n",
      " 'geocode': {'latitude': 51.080956, 'longitude': 1.18429}}\n",
      "{'RatingValue': 4,\n",
      " '_id': ObjectId('65dd454504553fd4d65567ba'),\n",
      " 'geocode': {'latitude': 51.080805, 'longitude': 1.183894}}\n",
      "{'RatingValue': 5,\n",
      " '_id': ObjectId('65dd454504553fd4d65567bb'),\n",
      " 'geocode': {'latitude': 51.0810258, 'longitude': 1.1835476}}\n",
      "{'RatingValue': 5,\n",
      " '_id': ObjectId('65dd454504553fd4d65567bc'),\n",
      " 'geocode': {'latitude': 51.079905, 'longitude': 1.182875}}\n",
      "{'RatingValue': 5,\n",
      " '_id': ObjectId('65dd454504553fd4d65567bd'),\n",
      " 'geocode': {'latitude': 51.080339, 'longitude': 1.182805}}\n",
      "{'RatingValue': 5,\n",
      " '_id': ObjectId('65dd454504553fd4d65567be'),\n",
      " 'geocode': {'latitude': 51.080339, 'longitude': 1.182805}}\n",
      "{'RatingValue': 5,\n",
      " '_id': ObjectId('65dd454504553fd4d65567bf'),\n",
      " 'geocode': {'latitude': 51.08034, 'longitude': 1.182805}}\n",
      "{'RatingValue': 5,\n",
      " '_id': ObjectId('65dd454504553fd4d65567c0'),\n",
      " 'geocode': {'latitude': 51.08034, 'longitude': 1.182805}}\n",
      "{'RatingValue': 5,\n",
      " '_id': ObjectId('65dd454504553fd4d65567c1'),\n",
      " 'geocode': {'latitude': 51.0802956, 'longitude': 1.1823865}}\n",
      "{'RatingValue': 5,\n",
      " '_id': ObjectId('65dd454504553fd4d65567c2'),\n",
      " 'geocode': {'latitude': 51.08034, 'longitude': 1.182805}}\n",
      "{'RatingValue': 4,\n",
      " '_id': ObjectId('65dd454504553fd4d65567c3'),\n",
      " 'geocode': {'latitude': 51.079889, 'longitude': 1.181832}}\n",
      "{'RatingValue': 5,\n",
      " '_id': ObjectId('65dd454504553fd4d65567c4'),\n",
      " 'geocode': {'latitude': 51.079532623291, 'longitude': 1.1813759803772}}\n",
      "{'RatingValue': 4,\n",
      " '_id': ObjectId('65dd454504553fd4d65567c5'),\n",
      " 'geocode': {'latitude': 51.079542, 'longitude': 1.181365}}\n",
      "{'RatingValue': 5,\n",
      " '_id': ObjectId('65dd454504553fd4d65567c6'),\n",
      " 'geocode': {'latitude': 51.08034, 'longitude': 1.182805}}\n",
      "{'RatingValue': 5,\n",
      " '_id': ObjectId('65dd454504553fd4d65567c7'),\n",
      " 'geocode': {'latitude': 51.0798931, 'longitude': 1.1817077}}\n",
      "{'RatingValue': 5,\n",
      " '_id': ObjectId('65dd454504553fd4d65567c8'),\n",
      " 'geocode': {'latitude': 51.080412, 'longitude': 1.182125}}\n",
      "{'RatingValue': 5,\n",
      " '_id': ObjectId('65dd454504553fd4d65567c9'),\n",
      " 'geocode': {'latitude': 51.080412, 'longitude': 1.182125}}\n",
      "{'RatingValue': None,\n",
      " '_id': ObjectId('65dd454504553fd4d65567ca'),\n",
      " 'geocode': {'latitude': 51.0798, 'longitude': 1.181483}}\n",
      "{'RatingValue': 3,\n",
      " '_id': ObjectId('65dd454504553fd4d65567cb'),\n",
      " 'geocode': {'latitude': 51.0803409, 'longitude': 1.1822069}}\n",
      "{'RatingValue': 5,\n",
      " '_id': ObjectId('65dd454504553fd4d65567cc'),\n",
      " 'geocode': {'latitude': 51.079799, 'longitude': 1.181482}}\n",
      "{'RatingValue': 3,\n",
      " '_id': ObjectId('65dd454504553fd4d65567cd'),\n",
      " 'geocode': {'latitude': 51.078209, 'longitude': 1.179446}}\n",
      "{'RatingValue': 5,\n",
      " '_id': ObjectId('65dd454504553fd4d65567ce'),\n",
      " 'geocode': {'latitude': 51.0800235, 'longitude': 1.1813097}}\n"
     ]
    }
   ],
   "source": [
    "# Check that the coordinates and rating value are now numbers\n",
    "docs = establishments.find({},{'geocode':1,'RatingValue':1}).limit(100)\n",
    "for doc in docs:\n",
    "    pprint(doc)"
   ]
  }
 ],
 "metadata": {
  "kernelspec": {
   "display_name": "dev",
   "language": "python",
   "name": "dev"
  },
  "language_info": {
   "codemirror_mode": {
    "name": "ipython",
    "version": 3
   },
   "file_extension": ".py",
   "mimetype": "text/x-python",
   "name": "python",
   "nbconvert_exporter": "python",
   "pygments_lexer": "ipython3",
   "version": "3.10.13"
  }
 },
 "nbformat": 4,
 "nbformat_minor": 5
}
